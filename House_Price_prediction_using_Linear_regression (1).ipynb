{
  "nbformat": 4,
  "nbformat_minor": 0,
  "metadata": {
    "colab": {
      "provenance": []
    },
    "kernelspec": {
      "name": "python3",
      "display_name": "Python 3"
    },
    "language_info": {
      "name": "python"
    }
  },
  "cells": [
    {
      "cell_type": "markdown",
      "source": [
        "No preprocessing + Linear regression"
      ],
      "metadata": {
        "id": "grknc6m1h27A"
      }
    },
    {
      "cell_type": "code",
      "source": [
        "import pandas as pd\n",
        "from sklearn.model_selection import train_test_split\n",
        "from sklearn.linear_model import LinearRegression\n",
        "from sklearn.metrics import r2_score\n",
        "\n",
        "# Load the datasets\n",
        "train_data = pd.read_csv('/content/train.csv')\n",
        "test_data = pd.read_csv('/content/test.csv')\n",
        "\n",
        "# Select relevant features and target variable\n",
        "features = ['GrLivArea', 'BedroomAbvGr', 'FullBath']\n",
        "target = 'SalePrice'\n",
        "\n",
        "X = train_data[features]\n",
        "y = train_data[target]\n",
        "\n",
        "# Split the data into training and validation sets\n",
        "X_train, X_val, y_train, y_val = train_test_split(X, y, test_size=0.2, random_state=42)\n",
        "\n",
        "# Create and train the linear regression model\n",
        "model = LinearRegression()\n",
        "model.fit(X_train, y_train)\n",
        "\n",
        "# Make predictions on the validation set\n",
        "y_pred = model.predict(X_val)\n",
        "\n",
        "# Calculate the R² on the validation set\n",
        "r2 = r2_score(y_val, y_pred)\n",
        "print(f\"R²: {r2}\")\n",
        "\n",
        "# Select the same features from the test set\n",
        "X_test = test_data[features]\n",
        "\n",
        "# Make predictions on the test set\n",
        "test_predictions = model.predict(X_test)\n",
        "\n",
        "# Prepare the submission DataFrame\n",
        "submission = pd.DataFrame({\n",
        "    'Id': test_data['Id'],\n",
        "    'SalePrice': test_predictions\n",
        "})\n",
        "\n",
        "# Save the submission DataFrame to a CSV file\n",
        "submission_path = '/content/house_price_predictions.csv'\n",
        "submission.to_csv(submission_path, index=False)\n",
        "\n",
        "print(\"Predictions saved to:\", submission_path)\n"
      ],
      "metadata": {
        "colab": {
          "base_uri": "https://localhost:8080/"
        },
        "id": "Z7BwUEIvh2Fy",
        "outputId": "b6eee5ba-4d60-4bce-afe3-e49f4d4ae3c8"
      },
      "execution_count": null,
      "outputs": [
        {
          "output_type": "stream",
          "name": "stdout",
          "text": [
            "R²: 0.6341189942328371\n",
            "Predictions saved to: /content/house_price_predictions.csv\n"
          ]
        }
      ]
    },
    {
      "cell_type": "markdown",
      "source": [
        "Simple Linear regression + preprocessing"
      ],
      "metadata": {
        "id": "MWEGz4gRhsm4"
      }
    },
    {
      "cell_type": "code",
      "execution_count": null,
      "metadata": {
        "colab": {
          "base_uri": "https://localhost:8080/"
        },
        "id": "8s1toxQLe54B",
        "outputId": "1eef4ee3-f7f4-426c-bdc9-f3d9b220b607"
      },
      "outputs": [
        {
          "output_type": "stream",
          "name": "stdout",
          "text": [
            "Training R²: 0.5652084622981051\n",
            "Validation R²: 0.6341189942328371\n",
            "Predictions saved to: /content/house_price_predictions2.csv\n"
          ]
        }
      ],
      "source": [
        "import pandas as pd\n",
        "from sklearn.model_selection import train_test_split\n",
        "from sklearn.linear_model import LinearRegression\n",
        "from sklearn.metrics import r2_score\n",
        "\n",
        "# Load the datasets\n",
        "train_data = pd.read_csv('/content/train.csv')\n",
        "test_data = pd.read_csv('/content/test.csv')\n",
        "\n",
        "# Select relevant features and target variable\n",
        "features = ['GrLivArea', 'BedroomAbvGr', 'FullBath']\n",
        "target = 'SalePrice'\n",
        "\n",
        "# Check for duplicated values and drop them\n",
        "train_data = train_data.drop_duplicates()\n",
        "\n",
        "# Fill missing values with the mean for both train and test data\n",
        "for feature in features:\n",
        "    train_data[feature].fillna(train_data[feature].mean(), inplace=True)\n",
        "    test_data[feature].fillna(test_data[feature].mean(), inplace=True)\n",
        "\n",
        "# Extract features and target variable\n",
        "X = train_data[features]\n",
        "y = train_data[target]\n",
        "\n",
        "# Split the data into training and validation sets\n",
        "X_train, X_val, y_train, y_val = train_test_split(X, y, test_size=0.2, random_state=42)\n",
        "\n",
        "# Create and train the linear regression model\n",
        "model = LinearRegression()\n",
        "model.fit(X_train, y_train)\n",
        "\n",
        "# Make predictions on the training and validation sets\n",
        "y_train_pred = model.predict(X_train)\n",
        "y_val_pred = model.predict(X_val)\n",
        "\n",
        "# Calculate the R² score for both training and validation sets\n",
        "r2_train = r2_score(y_train, y_train_pred)\n",
        "r2_val = r2_score(y_val, y_val_pred)\n",
        "\n",
        "print(f\"Training R²: {r2_train}\")\n",
        "print(f\"Validation R²: {r2_val}\")\n",
        "\n",
        "# Select the same features from the test set\n",
        "X_test = test_data[features]\n",
        "\n",
        "# Make predictions on the test set\n",
        "test_predictions = model.predict(X_test)\n",
        "\n",
        "# Prepare the submission DataFrame\n",
        "submission = pd.DataFrame({\n",
        "    'Id': test_data['Id'],\n",
        "    'SalePrice': test_predictions\n",
        "})\n",
        "\n",
        "# Save the submission DataFrame to a CSV file\n",
        "submission_path = '/content/house_price_predictions2.csv'\n",
        "submission.to_csv(submission_path, index=False)\n",
        "\n",
        "print(\"Predictions saved to:\", submission_path)\n"
      ]
    },
    {
      "cell_type": "markdown",
      "source": [
        "Ridge Technique + preprocessing + scaling + using all columns"
      ],
      "metadata": {
        "id": "W_V1OOI7hpOv"
      }
    },
    {
      "cell_type": "code",
      "source": [
        "import pandas as pd\n",
        "from sklearn.model_selection import train_test_split\n",
        "from sklearn.preprocessing import StandardScaler\n",
        "from sklearn.linear_model import Ridge\n",
        "from sklearn.metrics import r2_score\n",
        "\n",
        "# Load the datasets\n",
        "train_data = pd.read_csv('/content/train.csv')\n",
        "test_data = pd.read_csv('/content/test.csv')\n",
        "\n",
        "# Select relevant features and target variable\n",
        "features = ['GrLivArea', 'BedroomAbvGr', 'FullBath', 'TotRmsAbvGrd', 'YearBuilt', 'GarageArea']\n",
        "target = 'SalePrice'\n",
        "\n",
        "# Check for duplicated values and drop them\n",
        "train_data = train_data.drop_duplicates()\n",
        "\n",
        "# Fill missing values with the mean for both train and test data\n",
        "for feature in features:\n",
        "    train_data[feature].fillna(train_data[feature].mean(), inplace=True)\n",
        "    test_data[feature].fillna(test_data[feature].mean(), inplace=True)\n",
        "\n",
        "# Extract features and target variable\n",
        "X = train_data[features]\n",
        "y = train_data[target]\n",
        "\n",
        "# Split the data into training and validation sets\n",
        "X_train, X_val, y_train, y_val = train_test_split(X, y, test_size=0.2, random_state=42)\n",
        "\n",
        "# Standardize the features\n",
        "scaler = StandardScaler()\n",
        "X_train = scaler.fit_transform(X_train)\n",
        "X_val = scaler.transform(X_val)\n",
        "X_test = scaler.transform(test_data[features])\n",
        "\n",
        "# Create and train the Ridge regression model\n",
        "model = Ridge(alpha=1.0)\n",
        "model.fit(X_train, y_train)\n",
        "\n",
        "# Make predictions on the training and validation sets\n",
        "y_train_pred = model.predict(X_train)\n",
        "y_val_pred = model.predict(X_val)\n",
        "\n",
        "# Calculate the R² score for both training and validation sets\n",
        "r2_train = r2_score(y_train, y_train_pred)\n",
        "r2_val = r2_score(y_val, y_val_pred)\n",
        "\n",
        "print(f\"Training R²: {r2_train}\")\n",
        "print(f\"Validation R²: {r2_val}\")\n",
        "\n",
        "# Make predictions on the test set\n",
        "test_predictions = model.predict(X_test)\n",
        "\n",
        "# Prepare the submission DataFrame\n",
        "submission = pd.DataFrame({\n",
        "    'Id': test_data['Id'],\n",
        "    'SalePrice': test_predictions\n",
        "})\n",
        "\n",
        "# Save the submission DataFrame to a CSV file\n",
        "submission_path = '/content/house_price_predictions3.csv'\n",
        "submission.to_csv(submission_path, index=False)\n",
        "\n",
        "print(\"Predictions saved to:\", submission_path)\n"
      ],
      "metadata": {
        "colab": {
          "base_uri": "https://localhost:8080/"
        },
        "id": "ypyWHapchbZr",
        "outputId": "5cb1918c-4793-445b-8c8e-9edcd299bdba"
      },
      "execution_count": null,
      "outputs": [
        {
          "output_type": "stream",
          "name": "stdout",
          "text": [
            "Training R²: 0.6925752137101122\n",
            "Validation R²: 0.7305501306169468\n",
            "Predictions saved to: /content/house_price_predictions3.csv\n"
          ]
        }
      ]
    },
    {
      "cell_type": "markdown",
      "source": [
        "More improved Linear regression model"
      ],
      "metadata": {
        "id": "71OoOPydzsxr"
      }
    },
    {
      "cell_type": "code",
      "source": [
        "import pandas as pd\n",
        "from sklearn.model_selection import train_test_split\n",
        "from sklearn.linear_model import LinearRegression\n",
        "from sklearn.metrics import r2_score\n",
        "\n",
        "# Load the datasets\n",
        "train_data = pd.read_csv('/content/train.csv')\n",
        "test_data = pd.read_csv('/content/test.csv')\n",
        "\n",
        "# Select relevant features and target variable\n",
        "features = ['GrLivArea', 'BedroomAbvGr', 'FullBath', 'OverallQual', 'YearBuilt', 'TotalBsmtSF']\n",
        "target = 'SalePrice'\n",
        "\n",
        "# Check for duplicated values and drop them\n",
        "train_data = train_data.drop_duplicates()\n",
        "\n",
        "# Fill missing values with the mean for both train and test data\n",
        "for feature in features:\n",
        "    train_data[feature].fillna(train_data[feature].mean(), inplace=True)\n",
        "    test_data[feature].fillna(test_data[feature].mean(), inplace=True)\n",
        "\n",
        "# Extract features and target variable\n",
        "X = train_data[features]\n",
        "y = train_data[target]\n",
        "\n",
        "# Split the data into training and validation sets\n",
        "X_train, X_val, y_train, y_val = train_test_split(X, y, test_size=0.2, random_state=42)\n",
        "\n",
        "# Create and train the linear regression model\n",
        "model = LinearRegression()\n",
        "model.fit(X_train, y_train)\n",
        "\n",
        "# Make predictions on the training and validation sets\n",
        "y_train_pred = model.predict(X_train)\n",
        "y_val_pred = model.predict(X_val)\n",
        "\n",
        "# Calculate the R² score for both training and validation sets\n",
        "r2_train = r2_score(y_train, y_train_pred)\n",
        "r2_val = r2_score(y_val, y_val_pred)\n",
        "\n",
        "print(f\"Training R²: {r2_train}\")\n",
        "print(f\"Validation R²: {r2_val}\")\n",
        "\n",
        "# Select the same features from the test set\n",
        "X_test = test_data[features]\n",
        "\n",
        "# Make predictions on the test set\n",
        "test_predictions = model.predict(X_test)\n",
        "\n",
        "# Prepare the submission DataFrame\n",
        "submission = pd.DataFrame({\n",
        "    'Id': test_data['Id'],\n",
        "    'SalePrice': test_predictions\n",
        "})\n",
        "\n",
        "# Save the submission DataFrame to a CSV file\n",
        "submission_path = '/content/house_price_predictions4.csv'\n",
        "submission.to_csv(submission_path, index=False)\n",
        "\n",
        "print(\"Predictions saved to:\", submission_path)\n"
      ],
      "metadata": {
        "colab": {
          "base_uri": "https://localhost:8080/"
        },
        "id": "zQHFgncpzQOw",
        "outputId": "52ff4080-0482-425b-96e8-b0ad0ce5e4c1"
      },
      "execution_count": null,
      "outputs": [
        {
          "output_type": "stream",
          "name": "stdout",
          "text": [
            "Training R²: 0.7513001204770677\n",
            "Validation R²: 0.7973274324719102\n",
            "Predictions saved to: /content/house_price_predictions4.csv\n"
          ]
        }
      ]
    },
    {
      "cell_type": "code",
      "source": [
        "import pandas as pd\n",
        "from sklearn.model_selection import train_test_split\n",
        "from sklearn.linear_model import LinearRegression\n",
        "from sklearn.metrics import r2_score\n",
        "\n",
        "# Load the datasets\n",
        "train_data = pd.read_csv('/content/train.csv')\n",
        "test_data = pd.read_csv('/content/test.csv')\n",
        "\n",
        "# Identify the target variable\n",
        "target = 'SalePrice'\n",
        "\n",
        "# Select all features except the target variable and non-numeric columns\n",
        "features = train_data.select_dtypes(include=['float64', 'int64']).columns.drop(target).tolist()\n",
        "\n",
        "# Check for duplicated values and drop them\n",
        "train_data = train_data.drop_duplicates()\n",
        "\n",
        "# Fill missing values with the mean for both train and test data\n",
        "for feature in features:\n",
        "    train_data[feature].fillna(train_data[feature].mean(), inplace=True)\n",
        "    test_data[feature].fillna(test_data[feature].mean(), inplace=True)\n",
        "\n",
        "# Extract features and target variable\n",
        "X = train_data[features]\n",
        "y = train_data[target]\n",
        "\n",
        "# Split the data into training and validation sets\n",
        "X_train, X_val, y_train, y_val = train_test_split(X, y, test_size=0.2, random_state=42)\n",
        "\n",
        "# Create and train the linear regression model\n",
        "model = LinearRegression()\n",
        "model.fit(X_train, y_train)\n",
        "\n",
        "# Make predictions on the training and validation sets\n",
        "y_train_pred = model.predict(X_train)\n",
        "y_val_pred = model.predict(X_val)\n",
        "\n",
        "# Calculate the R² score for both training and validation sets\n",
        "r2_train = r2_score(y_train, y_train_pred)\n",
        "r2_val = r2_score(y_val, y_val_pred)\n",
        "\n",
        "print(f\"Training R²: {r2_train}\")\n",
        "print(f\"Validation R²: {r2_val}\")\n",
        "\n",
        "# Select the same features from the test set\n",
        "X_test = test_data[features]\n",
        "\n",
        "# Make predictions on the test set\n",
        "test_predictions = model.predict(X_test)\n",
        "\n",
        "# Prepare the submission DataFrame\n",
        "submission = pd.DataFrame({\n",
        "    'Id': test_data['Id'],\n",
        "    'SalePrice': test_predictions\n",
        "})\n",
        "\n",
        "# Save the submission DataFrame to a CSV file\n",
        "submission_path = '/content/house_price_predictions_all_features.csv'\n",
        "submission.to_csv(submission_path, index=False)\n",
        "\n",
        "print(\"Predictions saved to:\", submission_path)\n"
      ],
      "metadata": {
        "id": "V0QnLZilQFcw",
        "outputId": "b3ba9e26-4b32-4e48-d0ff-6d8c00d509b2",
        "colab": {
          "base_uri": "https://localhost:8080/"
        }
      },
      "execution_count": null,
      "outputs": [
        {
          "output_type": "stream",
          "name": "stdout",
          "text": [
            "Training R²: 0.8071714055383968\n",
            "Validation R²: 0.8227439852048932\n",
            "Predictions saved to: /content/house_price_predictions_all_features.csv\n"
          ]
        }
      ]
    }
  ]
}