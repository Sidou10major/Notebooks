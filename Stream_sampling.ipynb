{
  "nbformat": 4,
  "nbformat_minor": 0,
  "metadata": {
    "colab": {
      "provenance": []
    },
    "kernelspec": {
      "name": "python3",
      "display_name": "Python 3"
    },
    "language_info": {
      "name": "python"
    }
  },
  "cells": [
    {
      "cell_type": "code",
      "source": [
        "!pip install git+https://github.com/modAL-python/modAL.git"
      ],
      "metadata": {
        "id": "RP0czYGtayH3"
      },
      "execution_count": null,
      "outputs": []
    },
    {
      "cell_type": "code",
      "execution_count": null,
      "metadata": {
        "id": "Bp_itUJpaRIi"
      },
      "outputs": [],
      "source": [
        "import numpy as np\n",
        "\n",
        "# creating the image\n",
        "im_width = 500\n",
        "im_height = 500\n",
        "im = np.zeros((im_height, im_width))\n",
        "im[100:im_width - 1 - 100, 100:im_height - 1 - 100] = 1\n",
        "\n",
        "# create the data to stream from\n",
        "X_full = np.transpose(\n",
        "    [np.tile(np.asarray(range(im.shape[0])), im.shape[1]),\n",
        "     np.repeat(np.asarray(range(im.shape[1])), im.shape[0])]\n",
        ")\n",
        "# map the intensity values against the grid\n",
        "y_full = np.asarray([im[P[0], P[1]] for P in X_full])\n",
        "\n",
        "# create the data to stream from\n",
        "X_full = np.transpose(\n",
        "    [np.tile(np.asarray(range(im.shape[0])), im.shape[1]),\n",
        "     np.repeat(np.asarray(range(im.shape[1])), im.shape[0])]\n",
        ")\n",
        "# map the intensity values against the grid\n",
        "y_full = np.asarray([im[P[0], P[1]] for P in X_full])"
      ]
    },
    {
      "cell_type": "code",
      "source": [
        "import matplotlib as mpl\n",
        "import matplotlib.pyplot as plt\n",
        "%matplotlib inline\n",
        "\n",
        "with plt.style.context('seaborn-white'):\n",
        "    plt.figure(figsize=(7, 7))\n",
        "    plt.imshow(im)\n",
        "    plt.title('The shape to learn')\n",
        "    plt.show()"
      ],
      "metadata": {
        "id": "Ql72qFuRaabK"
      },
      "execution_count": null,
      "outputs": []
    },
    {
      "cell_type": "code",
      "source": [
        "from sklearn.ensemble import RandomForestClassifier\n",
        "from modAL.models import ActiveLearner\n",
        "\n",
        "# assembling initial training set\n",
        "n_initial = 5\n",
        "initial_idx = np.random.choice(range(len(X_full)), size=n_initial, replace=False)\n",
        "X_train, y_train = X_full[initial_idx], y_full[initial_idx]\n",
        "\n",
        "# initialize the learner\n",
        "learner = ActiveLearner(\n",
        "    estimator=RandomForestClassifier(),\n",
        "    X_training=X_train, y_training=y_train\n",
        ")\n",
        "unqueried_score = learner.score(X_full, y_full)\n",
        "\n",
        "print('Initial prediction accuracy: %f' % unqueried_score)"
      ],
      "metadata": {
        "id": "B-oiJvhaac0-"
      },
      "execution_count": null,
      "outputs": []
    },
    {
      "cell_type": "code",
      "source": [
        "# visualizing initial prediciton\n",
        "with plt.style.context('seaborn-white'):\n",
        "    plt.figure(figsize=(7, 7))\n",
        "    prediction = learner.predict_proba(X_full)[:, 0]\n",
        "    plt.imshow(prediction.reshape(im_width, im_height))\n",
        "    plt.title('Initial prediction accuracy: %f' % unqueried_score)\n",
        "    plt.show()"
      ],
      "metadata": {
        "id": "0ZFDSsklafyz"
      },
      "execution_count": null,
      "outputs": []
    },
    {
      "cell_type": "code",
      "source": [
        "from modAL.uncertainty import classifier_uncertainty\n",
        "\n",
        "performance_history = [unqueried_score]\n",
        "\n",
        "# learning until the accuracy reaches a given threshold\n",
        "while learner.score(X_full, y_full) < 0.90:\n",
        "    stream_idx = np.random.choice(range(len(X_full)))\n",
        "    if classifier_uncertainty(learner, X_full[stream_idx].reshape(1, -1)) >= 0.4:\n",
        "        learner.teach(X_full[stream_idx].reshape(1, -1), y_full[stream_idx].reshape(-1, ))\n",
        "        new_score = learner.score(X_full, y_full)\n",
        "        performance_history.append(new_score)\n",
        "        print('Pixel no. %d queried, new accuracy: %f' % (stream_idx, new_score))"
      ],
      "metadata": {
        "id": "sKn5jTzFajh8"
      },
      "execution_count": null,
      "outputs": []
    },
    {
      "cell_type": "code",
      "source": [
        "# Plot our performance over time.\n",
        "fig, ax = plt.subplots(figsize=(8.5, 6), dpi=130)\n",
        "\n",
        "ax.plot(performance_history)\n",
        "ax.scatter(range(len(performance_history)), performance_history, s=13)\n",
        "\n",
        "ax.xaxis.set_major_locator(mpl.ticker.MaxNLocator(nbins=5, integer=True))\n",
        "ax.yaxis.set_major_locator(mpl.ticker.MaxNLocator(nbins=10))\n",
        "ax.yaxis.set_major_formatter(mpl.ticker.PercentFormatter(xmax=1))\n",
        "\n",
        "ax.set_ylim(bottom=0, top=1)\n",
        "ax.grid(True)\n",
        "\n",
        "ax.set_title('Incremental classification accuracy')\n",
        "ax.set_xlabel('Query iteration')\n",
        "ax.set_ylabel('Classification Accuracy')\n",
        "\n",
        "plt.show()"
      ],
      "metadata": {
        "id": "96IB5SEVakX5"
      },
      "execution_count": null,
      "outputs": []
    }
  ]
}